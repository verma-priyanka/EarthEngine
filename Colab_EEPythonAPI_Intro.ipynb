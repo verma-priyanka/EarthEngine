{
  "nbformat": 4,
  "nbformat_minor": 0,
  "metadata": {
    "colab": {
      "name": "01-Colab_EEPythonAPI-Intro.ipynb",
      "provenance": [],
      "collapsed_sections": [],
      "include_colab_link": true
    },
    "kernelspec": {
      "name": "python3",
      "display_name": "Python 3"
    },
    "accelerator": "GPU"
  },
  "cells": [
    {
      "cell_type": "markdown",
      "metadata": {
        "id": "view-in-github",
        "colab_type": "text"
      },
      "source": [
        "<a href=\"https://colab.research.google.com/github/verma-priyanka/EarthEngine/blob/master/01_Colab_EEPythonAPI_Intro.ipynb\" target=\"_parent\"><img src=\"https://colab.research.google.com/assets/colab-badge.svg\" alt=\"Open In Colab\"/></a>"
      ]
    },
    {
      "cell_type": "markdown",
      "metadata": {
        "id": "fqrwol8qSN0D",
        "colab_type": "text"
      },
      "source": [
        "<p><img alt=\"Colaboratory logo\" height=\"45px\" src=\"/img/colab_favicon.ico\" align=\"left\" hspace=\"10px\" vspace=\"0px\"></p>\n",
        "\n",
        "<h1> Google Colaboratory |  Earth Engine Python API </h1>\n",
        "\n",
        "Colaboratory is a free Jupyter notebook environment that requires no setup and runs entirely in the cloud.\n",
        "\n",
        "----"
      ]
    },
    {
      "cell_type": "markdown",
      "metadata": {
        "id": "xTcdhnWLUQLk",
        "colab_type": "text"
      },
      "source": [
        "## Cells\n",
        "A notebook is a list of cells. Cells contain either explanatory text or executable code and its output."
      ]
    },
    {
      "cell_type": "markdown",
      "metadata": {
        "id": "XsxmM_DiWFCi",
        "colab_type": "text"
      },
      "source": [
        "#### This is text cell. \n",
        "> Text cells support Markdown Language\n"
      ]
    },
    {
      "cell_type": "code",
      "metadata": {
        "id": "t707b8SoRpoU",
        "colab_type": "code",
        "colab": {}
      },
      "source": [
        "# This is a code cell \n",
        "hello_world = 'Hello World'\n",
        "print(hello_world)"
      ],
      "execution_count": 0,
      "outputs": []
    },
    {
      "cell_type": "markdown",
      "metadata": {
        "id": "pCu1Kb-fnW8a",
        "colab_type": "text"
      },
      "source": [
        "-----\n",
        "# Kernels \n",
        "Every notebook runs on a kernel. When you run a code cell, that code is executed within the kernel and any output is returned back to the cell to be displayed. \n",
        "\n",
        "Colab supports Python 2.7 and Python 3.6."
      ]
    },
    {
      "cell_type": "code",
      "metadata": {
        "id": "KJS052gdkzj2",
        "colab_type": "code",
        "cellView": "code",
        "colab": {}
      },
      "source": [
        "# Declare variable hello_world\n",
        "hello_world = 'Hello World'"
      ],
      "execution_count": 0,
      "outputs": []
    },
    {
      "cell_type": "code",
      "metadata": {
        "id": "zlhABck2k2gp",
        "colab_type": "code",
        "colab": {}
      },
      "source": [
        "# Print variable hello_world\n",
        "print(hello_world)"
      ],
      "execution_count": 0,
      "outputs": []
    },
    {
      "cell_type": "markdown",
      "metadata": {
        "id": "M4ob8Kw4oU8o",
        "colab_type": "text"
      },
      "source": [
        "\n",
        "\n",
        "---\n",
        "\n",
        "\n",
        "# Saving Notebooks\n",
        "Notebooks are saved in Google Drive with an .ipynb extension. \n",
        "\n",
        "## GitHub\n",
        "*Saving a Colab notebook to GitHub requires giving Colab permission to push the commit to your repository.*\n",
        "\n",
        "\n",
        "To save your notebook to GitHub:\n",
        "1.   Choose File→Save a copy to GitHub.  \n",
        "2.   Select Repository. Your repository must be initialized with a README.md file or have an existing branch to push to.\n",
        "3.   Provide file name under file path\n",
        "4.   Hit OK\n",
        "\n",
        "\n",
        "\n",
        "---\n",
        "\n",
        "\n"
      ]
    },
    {
      "cell_type": "markdown",
      "metadata": {
        "id": "yIpba8Eu1oUS",
        "colab_type": "text"
      },
      "source": [
        "# HTML\n",
        "Colab supports HTML\n",
        "\n",
        "Adding '%%html' at the beginning of a code cell reads the cell as HTML instead of executing it as python code\n",
        "\n"
      ]
    },
    {
      "cell_type": "code",
      "metadata": {
        "cellView": "both",
        "colab_type": "code",
        "id": "odfM-_GxWbCy",
        "outputId": "240f3061-428b-4024-d549-eaf0e90d59c9",
        "colab": {
          "base_uri": "https://localhost:8080/",
          "height": 34
        }
      },
      "source": [
        "%%html\n",
        "<text style='color: Red;'><b>HTML Text!</b></text>"
      ],
      "execution_count": 0,
      "outputs": [
        {
          "output_type": "display_data",
          "data": {
            "text/html": [
              "<text style='color: Red;'><b>HTML Text!</b></text>"
            ],
            "text/plain": [
              "<IPython.core.display.HTML object>"
            ]
          },
          "metadata": {
            "tags": []
          }
        }
      ]
    },
    {
      "cell_type": "code",
      "metadata": {
        "id": "4_1Ynhbe36br",
        "colab_type": "code",
        "colab": {}
      },
      "source": [
        "# This results in an error in python\n",
        "<text style='color: Red;'><b>HTML Text!</b></text>"
      ],
      "execution_count": 0,
      "outputs": []
    },
    {
      "cell_type": "markdown",
      "metadata": {
        "id": "USt69W1C39BJ",
        "colab_type": "text"
      },
      "source": [
        "\n",
        "\n",
        "---\n",
        "\n",
        "\n",
        "# Stack Overflow\n",
        "If your code results in an error, Colab provides an quick way to search errors on StackOverflow.com through the Google search engine."
      ]
    },
    {
      "cell_type": "code",
      "metadata": {
        "id": "wsYMjbwo4QuZ",
        "colab_type": "code",
        "colab": {}
      },
      "source": [
        "print(hello_world + 1)"
      ],
      "execution_count": 0,
      "outputs": []
    },
    {
      "cell_type": "markdown",
      "metadata": {
        "id": "FRMYUhJw7ZJ_",
        "colab_type": "text"
      },
      "source": [
        "<br>\n",
        "<br>\n",
        "<br>\n",
        "\n",
        "\n",
        "---\n",
        "# Google Earth Engine: Python API\n",
        "The Earth Engine Python API facilitates interacting with Earth Engine servers using the Python programming language.\n",
        "\n",
        "<br>\n",
        "\n",
        "## Installing a Library\n",
        "GEE's Python API is accessed through the **earthengine-api** library. \n",
        "<br>\n",
        "Python libraries can be easily downloaded in colab using **pip**, an python package installer"
      ]
    },
    {
      "cell_type": "code",
      "metadata": {
        "id": "-52qR7Cr7vxn",
        "colab_type": "code",
        "colab": {}
      },
      "source": [
        "# Download library using pip\n",
        "!pip install earthengine-api"
      ],
      "execution_count": 0,
      "outputs": []
    },
    {
      "cell_type": "code",
      "metadata": {
        "id": "3zSi0QaJ9E94",
        "colab_type": "code",
        "colab": {}
      },
      "source": [
        "# Import the earthengine-api library\n",
        "# The Python API package is called ee- must be imported into every new Python session and script.\n",
        "import ee"
      ],
      "execution_count": 0,
      "outputs": []
    },
    {
      "cell_type": "markdown",
      "metadata": {
        "id": "o5hEDpk1-MTu",
        "colab_type": "text"
      },
      "source": [
        "## Authentication\n",
        "Authenticating is necessary each time you begin working the GEE API in a Colab notebook.\n",
        "\n",
        "1.   Execute the code in the cell below and open the outputted URL\n",
        "2.   Choose your account with access to Google Earth Engine \n",
        "3.   Allow the Python Authenticator to access your account\n",
        "4.   Copy the code and enter it as the verification code below\n",
        "5.   Hit Enter\n",
        "6.   You should see 'Successfully saved authorization token.' if the authentication was successful\n",
        "\n",
        "\n"
      ]
    },
    {
      "cell_type": "code",
      "metadata": {
        "id": "DhrppTgN9kSn",
        "colab_type": "code",
        "colab": {}
      },
      "source": [
        "ee.Authenticate()"
      ],
      "execution_count": 0,
      "outputs": []
    },
    {
      "cell_type": "code",
      "metadata": {
        "id": "UP_j8jQY99iv",
        "colab_type": "code",
        "colab": {}
      },
      "source": [
        "# Initialize the library\n",
        "# The library must be initialized for every new session and script\n",
        "ee.Initialize()"
      ],
      "execution_count": 0,
      "outputs": []
    },
    {
      "cell_type": "markdown",
      "metadata": {
        "id": "ZTCXF1jxA7C-",
        "colab_type": "text"
      },
      "source": [
        "## Test the API\n",
        "\n",
        "The code below prints the elevation of Mount Everest using the [Shuttle Radar Topography Mission (SRTM) Digital Elevation](https://developers.google.com/earth-engine/datasets/catalog/USGS_SRTMGL1_003) data. \n",
        "\n",
        "According to the data catalog shows that the image was collected for a 10-day time period from *Feb 11th to Feb 22nd 2000*.\n",
        "\n",
        "Some additional information can be found under the Bands tab like the data has **one band called elevation** with a **resolution of 30m**.\n",
        "\n"
      ]
    },
    {
      "cell_type": "code",
      "metadata": {
        "id": "H890sJciAEE3",
        "colab_type": "code",
        "colab": {}
      },
      "source": [
        "# Specify path to image from the Earth Engine Data Catalog\n",
        "# This can be found under Earth Engine Snippet on the Data Catalog Page\n",
        "dem = ee.Image('USGS/SRTMGL1_003')\n",
        "\n",
        "# Generate a vector point using the ee.Geometry.Point Function \n",
        "# Pass longitude(x), latitude(y) values in a list as parameters\n",
        "# It is important to retain the order: x,y\n",
        "xy = ee.Geometry.Point([-71.815830, 42.250420])\n",
        "\n",
        "# Sample the pixels of image at the specified location\n",
        "# Select the first sample\n",
        "# The getInfo() function extracts the elevation information\n",
        "elev = dem.sample(xy).first().get('elevation').getInfo()\n",
        "\n",
        "# Print elevation information\n",
        "print('Clark University Elevation (m):', elev)"
      ],
      "execution_count": 0,
      "outputs": []
    },
    {
      "cell_type": "markdown",
      "metadata": {
        "id": "NUDMOLm4GBT0",
        "colab_type": "text"
      },
      "source": [
        "# Exercise 1\n",
        "Edit the code below to print the elevation information for **Mount Everest**\n",
        "\n",
        "\n",
        "[Use this website to get the lat/lon information](https://www.latlong.net/convert-address-to-lat-long.html )"
      ]
    },
    {
      "cell_type": "code",
      "metadata": {
        "id": "a8ZLKk6kBxmm",
        "colab_type": "code",
        "colab": {}
      },
      "source": [
        "# Specify path to image from the Earth Engine Data Catalog\n",
        "dem = ee.Image('USGS/SRTMGL1_003')\n",
        "\n",
        "# Pass longitude(x), latitude(y) values in a list as parameters\n",
        "# Lat/Lon for Clark University specified\n",
        "xy = ee.Geometry.Point([-71.815830, 42.250420])\n",
        "\n",
        "# Sample the pixels of image at the specified location\n",
        "# Select the first sample\n",
        "# The getInfo() function extracts the elevation information\n",
        "elev = dem.sample(xy).first().get('elevation').getInfo()\n",
        "\n",
        "# Print elevation information\n",
        "print('Mount Everest Elevation (m):', elev)"
      ],
      "execution_count": 0,
      "outputs": []
    },
    {
      "cell_type": "markdown",
      "metadata": {
        "id": "m93WL43lNHOB",
        "colab_type": "text"
      },
      "source": [
        "\n",
        "\n",
        "---\n",
        "\n",
        "# Mapping\n",
        "\n",
        "The **folium** package can be used to display earth engine images on an interactive map"
      ]
    },
    {
      "cell_type": "code",
      "metadata": {
        "id": "2DGwfZl7Nm1h",
        "colab_type": "code",
        "colab": {}
      },
      "source": [
        "# Download the folium library\n",
        "!pip install folium"
      ],
      "execution_count": 0,
      "outputs": []
    },
    {
      "cell_type": "code",
      "metadata": {
        "id": "FMw4DzXdNsFY",
        "colab_type": "code",
        "colab": {}
      },
      "source": [
        "# Import Library\n",
        "import folium"
      ],
      "execution_count": 0,
      "outputs": []
    },
    {
      "cell_type": "code",
      "metadata": {
        "id": "56MVr5KcQAPZ",
        "colab_type": "code",
        "colab": {}
      },
      "source": [
        "# Define a function to display Earth Engine image tiles to folium map.\n",
        "# The function takes:\n",
        "#   1. Earth Engine Image\n",
        "#   2. Visual parameters as dictionary\n",
        "#   3. A Name as a string\n",
        "\n",
        "def add_ee_layer(self, ee_image_object, vis_params, name):\n",
        "  map_id_dict = ee.Image(ee_image_object).getMapId(vis_params)\n",
        "  folium.raster_layers.TileLayer(\n",
        "    tiles = map_id_dict['tile_fetcher'].url_format,\n",
        "    attr = \"Map Data © Google Earth Engine\",\n",
        "    name = name,\n",
        "    overlay = True,\n",
        "    control = True\n",
        "  ).add_to(self)"
      ],
      "execution_count": 0,
      "outputs": []
    },
    {
      "cell_type": "markdown",
      "metadata": {
        "id": "Z9tBKHITTSHO",
        "colab_type": "text"
      },
      "source": [
        "\n",
        "\n",
        "---\n",
        "\n",
        "\n",
        "<br>\n",
        "\n",
        "\n",
        "\n",
        "# Image Collection\n",
        "An image collection refers to a set of Earth Engine images. For example, the collection of all Landsat 8 images is an ImageCollection. Like the SRTM image, image collections also have an ID.\n",
        "\n",
        "Example: [Landsat 8 Image Collection](https://developers.google.com/earth-engine/datasets/catalog/LANDSAT_LC08_C01_T1_SR)\n",
        "\n",
        "\n",
        "A collection represents every scene collected at every location and time period. It is useful to extract a single image or a subset of images. The way to limit the collection by time or space is by filtering it. "
      ]
    },
    {
      "cell_type": "code",
      "metadata": {
        "id": "T0OYMqnjXR42",
        "colab_type": "code",
        "colab": {}
      },
      "source": [
        "# Location to extract imagery for using geographic coordinates\n",
        "point = ee.Geometry.Point([-71.815830, 42.250420])\n",
        "# Dates\n",
        "startDate = '2016-01-01'\n",
        "endDate = '2017-01-31'\n",
        "\n",
        "# imageCollection path\n",
        "image = ee.ImageCollection(\"LANDSAT/LC08/C01/T1_SR\")\n",
        "\n",
        "# Filter by geom point\n",
        "image = image.filterBounds(point)\n",
        "\n",
        "# Specify time period of interest\n",
        "image = image.filterDate(startDate, endDate)\n",
        "\n",
        "image = image.min()\n",
        "\n",
        "# ----TRUE COLOR COMPOSITE------\n",
        "visParams = {'bands': ['B4', 'B3', 'B2'],\n",
        "                'min': 0,\n",
        "                'max': 3000,\n",
        "                'gamma': 1.4}"
      ],
      "execution_count": 0,
      "outputs": []
    },
    {
      "cell_type": "markdown",
      "metadata": {
        "id": "0uCg0ZcHg3pL",
        "colab_type": "text"
      },
      "source": [
        "Set up map by providing default location, zoom level and size.\n",
        "\n",
        "Add layer to map"
      ]
    },
    {
      "cell_type": "code",
      "metadata": {
        "id": "FithtAOLfuIS",
        "colab_type": "code",
        "colab": {}
      },
      "source": [
        "# Create a folium map object \n",
        "# Folium defaults to openstreetmap basemap if a tile isn't specified\n",
        "# Format for location coordinates: Latitude, Longitude\n",
        "# Height for \n",
        "imageryMap = folium.Map(location=[42.250420, -71.815830], zoom_start=7, height=500)\n",
        "\n",
        "# Create a folium map object with the add_ee_layer\n",
        "folium.Map.add_ee_layer = add_ee_layer\n",
        "\n",
        "# Add the layer to the map using the defined function\n",
        "imageryMap.add_ee_layer(image, visParams, 'True Color Composite')\n",
        "\n",
        "# Add a layer control panel to the map\n",
        "# Allows you to turn layers on and off\n",
        "imageryMap.add_child(folium.LayerControl())\n",
        "\n",
        "# Display the map\n",
        "display(imageryMap)"
      ],
      "execution_count": 0,
      "outputs": []
    },
    {
      "cell_type": "markdown",
      "metadata": {
        "id": "-QwueDABhMnw",
        "colab_type": "text"
      },
      "source": [
        "\n",
        "\n",
        "---\n",
        "\n",
        "\n",
        "\n",
        "# Exercise 2: Create a False Color Composite\n",
        "\n",
        "Create a false-color composite for the same geographic area. Use the same min, max and gamma parameters as the true color composite. \n",
        "\n",
        "Edit the code below and update the following:\n",
        "*   startDate = *2017-01-01*\n",
        "*   endDate = *2018-01-31*\n",
        "*   Bands: *B5, B4, B3*\n",
        "\n",
        "\n",
        "\n",
        "(Hint: You are updating 3 lines of code)\n",
        "\n",
        "\n"
      ]
    },
    {
      "cell_type": "code",
      "metadata": {
        "id": "c0KQjosmhSeQ",
        "colab_type": "code",
        "colab": {}
      },
      "source": [
        "def add_ee_layer(self, ee_image_object, vis_params, name):\n",
        "  map_id_dict = ee.Image(ee_image_object).getMapId(vis_params)\n",
        "  folium.raster_layers.TileLayer(\n",
        "    tiles = map_id_dict['tile_fetcher'].url_format,\n",
        "    attr = \"Map Data © Google Earth Engine\",\n",
        "    name = name,\n",
        "    overlay = True,\n",
        "    control = True\n",
        "  ).add_to(self)\n",
        "\n",
        "\n",
        "# Location to extract imagery for using geographic coordinates\n",
        "point = ee.Geometry.Point([-71.815830, 42.250420])\n",
        "\n",
        "# Dates\n",
        "startDate = '2016-01-01'\n",
        "endDate = '2017-01-31'\n",
        "\n",
        "# imageCollection path\n",
        "image = ee.ImageCollection(\"LANDSAT/LC08/C01/T1_SR\")\n",
        "\n",
        "# Filter by geom point\n",
        "image = image.filterBounds(point)\n",
        "\n",
        "# Specify time period of interest\n",
        "image = image.filterDate(startDate, endDate)\n",
        "\n",
        "image = image.min()\n",
        "\n",
        "# ----TRUE COLOR COMPOSITE------\n",
        "visParams = {'bands': ['B4', 'B3', 'B2'],\n",
        "                'min': 0,\n",
        "                'max': 3000,\n",
        "                'gamma': 1.4}\n",
        "\n",
        "# Create a folium map object \n",
        "# Folium defaults to openstreetmap basemap if a tile isn't specified\n",
        "# Format for location coordinates: Latitude, Longitude\n",
        "# Height for \n",
        "imageryMap = folium.Map(location=[42.250420, -71.815830], zoom_start=7, height=800)\n",
        "\n",
        "# Create a folium map object with the add_ee_layer\n",
        "folium.Map.add_ee_layer = add_ee_layer\n",
        "\n",
        "# Add the layer to the map using the defined function\n",
        "imageryMap.add_ee_layer(image, visParams, 'True Color Composite')\n",
        "\n",
        "# Add a layer control panel to the map\n",
        "# Allows you to turn layers on and off\n",
        "imageryMap.add_child(folium.LayerControl())\n",
        "\n",
        "# Display the map\n",
        "display(imageryMap)"
      ],
      "execution_count": 0,
      "outputs": []
    }
  ]
}
